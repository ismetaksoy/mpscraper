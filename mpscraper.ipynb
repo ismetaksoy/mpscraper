{
 "cells": [
  {
   "cell_type": "code",
   "execution_count": 7,
   "metadata": {},
   "outputs": [],
   "source": [
    "from bs4 import BeautifulSoup\n",
    "import requests\n",
    "import pandas as pd"
   ]
  },
  {
   "cell_type": "code",
   "execution_count": 8,
   "metadata": {},
   "outputs": [],
   "source": [
    "# base = 'https://www.marktplaats.nl'\n",
    "\n",
    "# link = \"https://www.marktplaats.nl/l/auto-s/bmw/p/1/\"\n",
    "# data = requests.get(link)\n",
    "# soup = BeautifulSoup(data.content,\"html.parser\")\n",
    "\n",
    "# car = soup.findAll('li',{'class':'mp-Listing mp-Listing--list-item'})\n",
    "# len(car)"
   ]
  },
  {
   "cell_type": "code",
   "execution_count": 9,
   "metadata": {
    "scrolled": true
   },
   "outputs": [],
   "source": [
    "# # links van de advertenties op marktplaats van auto's\n",
    "# for i in range(len(car)):\n",
    "#     print(base+car[i].a['href'])"
   ]
  },
  {
   "cell_type": "code",
   "execution_count": 10,
   "metadata": {},
   "outputs": [],
   "source": [
    "#autolink = base+car[32].a['href']\n",
    "# len(car)"
   ]
  },
  {
   "cell_type": "code",
   "execution_count": 11,
   "metadata": {},
   "outputs": [],
   "source": [
    "# # open de advertentiepagina en scrape the gegevens\n",
    "# autolink = base+car[0].a['href']\n",
    "# data1 = requests.get(autolink)\n",
    "# soupdata = BeautifulSoup(data1.content,\"html.parser\")\n",
    "# specs = soupdata.findAll('div',{'class':'spec-table-item'})"
   ]
  },
  {
   "cell_type": "code",
   "execution_count": 12,
   "metadata": {},
   "outputs": [],
   "source": [
    "# for i in range(len(specs)):\n",
    "#     (i , specs[i].text)"
   ]
  },
  {
   "cell_type": "code",
   "execution_count": 13,
   "metadata": {},
   "outputs": [],
   "source": [
    "# for i in range(len(car)):\n",
    "#     autolink = base+car[i].a['href']\n",
    "#     data_car = requests.get(autolink)\n",
    "#     soupdata = BeautifulSoup(data_car.content,'html.parser')\n",
    "#     specs = soupdata.findAll('div',{'class':'spec-table-item'})\n",
    "#     keyspecs = soupdata.findAll('span',{'class':'key'})\n",
    "#     valuespecs = soupdata.findAll('span',{'class':'value'})"
   ]
  },
  {
   "cell_type": "code",
   "execution_count": 14,
   "metadata": {},
   "outputs": [],
   "source": [
    "# merkmodel = specs[0].text.replace('\\n','')\n",
    "# bouwjaar = specs[1].text.replace('\\n','')\n"
   ]
  },
  {
   "cell_type": "code",
   "execution_count": 15,
   "metadata": {},
   "outputs": [],
   "source": [
    "# soupdata.findAll('span',{'class':'key'})\n",
    "# soupdata.findAll('span',{'class':'value'})[0].text"
   ]
  },
  {
   "cell_type": "code",
   "execution_count": null,
   "metadata": {},
   "outputs": [],
   "source": []
  },
  {
   "cell_type": "code",
   "execution_count": null,
   "metadata": {},
   "outputs": [],
   "source": []
  },
  {
   "cell_type": "code",
   "execution_count": 68,
   "metadata": {},
   "outputs": [],
   "source": [
    "# Working webscraper for marktplaats\n",
    "\n",
    "base = 'https://www.marktplaats.nl'\n",
    "\n",
    "link = \"https://www.marktplaats.nl/l/auto-s/bmw/p/1/\"\n",
    "data = requests.get(link)\n",
    "soup = BeautifulSoup(data.content,\"html.parser\")\n",
    "\n",
    "\n",
    "car = soup.findAll('li',{'class':'mp-Listing mp-Listing--list-item'})\n",
    "value = []\n",
    "for i in range(len(car)):\n",
    "    autolink = base+car[i].a['href']\n",
    "    data_car = requests.get(autolink)\n",
    "    soupdata = BeautifulSoup(data_car.content,'html.parser')\n",
    "    # specs = soupdata.findAll('div',{'class':'spec-table-item'})\n",
    "    keyspecs = soupdata.findAll('span',{'class':'key'})\n",
    "    valuespecs = soupdata.findAll('span',{'class':'value'})\n",
    "    value.append(valuespecs)"
   ]
  },
  {
   "cell_type": "code",
   "execution_count": 65,
   "metadata": {},
   "outputs": [],
   "source": [
    "kenteken = []\n",
    "for i in range(len(value)):\n",
    "    kenteken.append(value[i][4])"
   ]
  },
  {
   "cell_type": "code",
   "execution_count": 55,
   "metadata": {
    "scrolled": true
   },
   "outputs": [],
   "source": [
    "a = kenteken[0]"
   ]
  },
  {
   "cell_type": "code",
   "execution_count": null,
   "metadata": {},
   "outputs": [],
   "source": []
  },
  {
   "cell_type": "code",
   "execution_count": 66,
   "metadata": {},
   "outputs": [
    {
     "data": {
      "text/plain": [
       "<span class=\"value\">Automaat</span>"
      ]
     },
     "execution_count": 66,
     "metadata": {},
     "output_type": "execute_result"
    }
   ],
   "source": [
    "a"
   ]
  },
  {
   "cell_type": "code",
   "execution_count": 63,
   "metadata": {},
   "outputs": [
    {
     "data": {
      "text/plain": [
       "[<span class=\"value\">Automaat</span>,\n",
       " <span class=\"value\">1-SRT-65</span>,\n",
       " <span class=\"value\">Benzine</span>,\n",
       " <span class=\"value\">JH-613-G</span>,\n",
       " <span class=\"value\">64-NX-XX</span>,\n",
       " <span class=\"value\">ZL-599-P</span>,\n",
       " <span class=\"value\">92-RR-LN</span>,\n",
       " <span class=\"value\">89-ZR-GN</span>,\n",
       " <span class=\"value\">56-TXK-8</span>,\n",
       " <span class=\"value\">GH-109-B</span>,\n",
       " <span class=\"value\">1-ZGG-09</span>,\n",
       " <span class=\"value\">Automaat</span>,\n",
       " <span class=\"value\">RX-572-X</span>,\n",
       " <span class=\"value\">PK-132-H</span>,\n",
       " <span class=\"value\">7-XZX-98</span>,\n",
       " <span class=\"value\">G-570-XX</span>,\n",
       " <span class=\"value\">Bij aflevering</span>,\n",
       " <span class=\"value\">06-PL-HV</span>,\n",
       " <span class=\"value\">33-KNS-5</span>,\n",
       " <span class=\"value\">1-SRT-65</span>,\n",
       " <span class=\"value\">GF-128-K</span>,\n",
       " <span class=\"value\">81-RD-FD</span>,\n",
       " <span class=\"value\">8-SZJ-98</span>,\n",
       " <span class=\"value\">02 januari 2021</span>,\n",
       " <span class=\"value\">Benzine</span>,\n",
       " <span class=\"value\">15 februari 2021</span>,\n",
       " <span class=\"value\">HL-885-F</span>,\n",
       " <span class=\"value\">Benzine</span>,\n",
       " <span class=\"value\">Diesel</span>,\n",
       " <span class=\"value\">9-KDB-93</span>,\n",
       " <span class=\"value\">6-KXX-63</span>,\n",
       " <span class=\"value\">210.000 km</span>,\n",
       " <span class=\"value\">XK-724-D</span>,\n",
       " <span class=\"value\">GX-408-P</span>]"
      ]
     },
     "execution_count": 63,
     "metadata": {},
     "output_type": "execute_result"
    }
   ],
   "source": [
    "kenteken"
   ]
  },
  {
   "cell_type": "code",
   "execution_count": null,
   "metadata": {},
   "outputs": [],
   "source": []
  },
  {
   "cell_type": "code",
   "execution_count": null,
   "metadata": {},
   "outputs": [],
   "source": []
  }
 ],
 "metadata": {
  "kernelspec": {
   "display_name": "Python 3",
   "language": "python",
   "name": "python3"
  },
  "language_info": {
   "codemirror_mode": {
    "name": "ipython",
    "version": 3
   },
   "file_extension": ".py",
   "mimetype": "text/x-python",
   "name": "python",
   "nbconvert_exporter": "python",
   "pygments_lexer": "ipython3",
   "version": "3.8.1"
  }
 },
 "nbformat": 4,
 "nbformat_minor": 4
}
